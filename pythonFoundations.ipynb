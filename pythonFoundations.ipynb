{
 "cells": [
  {
   "cell_type": "code",
   "execution_count": 1,
   "metadata": {
    "colab": {
     "base_uri": "https://localhost:8080/"
    },
    "executionInfo": {
     "elapsed": 46,
     "status": "ok",
     "timestamp": 1750366151314,
     "user": {
      "displayName": "Rohit Raaj",
      "userId": "05738363180627729102"
     },
     "user_tz": -330
    },
    "id": "8kpbOiIW6eHE",
    "outputId": "7a8773e4-f4e3-4270-c75e-ce011dd4cd27"
   },
   "outputs": [
    {
     "name": "stdout",
     "output_type": "stream",
     "text": [
      "1\n",
      "2\n",
      "3\n",
      "4\n",
      "5\n",
      "6\n",
      "7\n",
      "8\n",
      "9\n"
     ]
    }
   ],
   "source": [
    "for i in range(1,10):\n",
    "  print (i)"
   ]
  },
  {
   "cell_type": "code",
   "execution_count": 6,
   "metadata": {
    "colab": {
     "base_uri": "https://localhost:8080/"
    },
    "executionInfo": {
     "elapsed": 17,
     "status": "ok",
     "timestamp": 1750367415660,
     "user": {
      "displayName": "Rohit Raaj",
      "userId": "05738363180627729102"
     },
     "user_tz": -330
    },
    "id": "71yIWjUB8-ES",
    "outputId": "9d3b9569-2d90-48d6-c7c5-41625699c1a3"
   },
   "outputs": [
    {
     "name": "stdout",
     "output_type": "stream",
     "text": [
      "hello\n",
      "World\n"
     ]
    }
   ],
   "source": [
    "print(\"hello\")\n",
    "print(\"World\")"
   ]
  },
  {
   "cell_type": "code",
   "execution_count": 10,
   "metadata": {
    "colab": {
     "base_uri": "https://localhost:8080/"
    },
    "executionInfo": {
     "elapsed": 16,
     "status": "ok",
     "timestamp": 1750367627853,
     "user": {
      "displayName": "Rohit Raaj",
      "userId": "05738363180627729102"
     },
     "user_tz": -330
    },
    "id": "vSHUda3jBywO",
    "outputId": "6549b938-4e95-4015-f963-091878de0b18"
   },
   "outputs": [
    {
     "name": "stdout",
     "output_type": "stream",
     "text": [
      "hello World\n"
     ]
    }
   ],
   "source": [
    "print(\"hello\", end=\" \")\n",
    "print(\"World\")"
   ]
  },
  {
   "cell_type": "code",
   "execution_count": 11,
   "metadata": {
    "colab": {
     "base_uri": "https://localhost:8080/"
    },
    "executionInfo": {
     "elapsed": 14,
     "status": "ok",
     "timestamp": 1750367783064,
     "user": {
      "displayName": "Rohit Raaj",
      "userId": "05738363180627729102"
     },
     "user_tz": -330
    },
    "id": "L8y6bHuYB3ZU",
    "outputId": "9545e2f5-d5b5-4b2b-debb-4f7fb1fff674"
   },
   "outputs": [
    {
     "name": "stdout",
     "output_type": "stream",
     "text": [
      "apples orange bananna\n"
     ]
    }
   ],
   "source": [
    "print(\"apples\",\"orange\",\"bananna\")"
   ]
  },
  {
   "cell_type": "code",
   "execution_count": 12,
   "metadata": {
    "colab": {
     "base_uri": "https://localhost:8080/"
    },
    "executionInfo": {
     "elapsed": 12,
     "status": "ok",
     "timestamp": 1750367789826,
     "user": {
      "displayName": "Rohit Raaj",
      "userId": "05738363180627729102"
     },
     "user_tz": -330
    },
    "id": "z1jCGw4NDMc-",
    "outputId": "c371007b-eebb-47bc-bd0c-ec5e8160a815"
   },
   "outputs": [
    {
     "name": "stdout",
     "output_type": "stream",
     "text": [
      "apples,orange,bananna\n"
     ]
    }
   ],
   "source": [
    "print(\"apples\",\"orange\",\"bananna\", sep=\",\")"
   ]
  },
  {
   "cell_type": "code",
   "execution_count": 13,
   "metadata": {
    "colab": {
     "base_uri": "https://localhost:8080/"
    },
    "executionInfo": {
     "elapsed": 58991,
     "status": "ok",
     "timestamp": 1750368473144,
     "user": {
      "displayName": "Rohit Raaj",
      "userId": "05738363180627729102"
     },
     "user_tz": -330
    },
    "id": "1AOZVgcoDOGw",
    "outputId": "e2c33764-60e0-43a7-fe8a-d3fd3acc01fa"
   },
   "outputs": [
    {
     "name": "stdout",
     "output_type": "stream",
     "text": [
      "Enter your name Rohit\n"
     ]
    }
   ],
   "source": [
    "name= input(\"Enter your name \")\n",
    "print(f'hey {name}')"
   ]
  },
  {
   "cell_type": "code",
   "execution_count": 14,
   "metadata": {
    "colab": {
     "base_uri": "https://localhost:8080/"
    },
    "executionInfo": {
     "elapsed": 2769,
     "status": "ok",
     "timestamp": 1750368488365,
     "user": {
      "displayName": "Rohit Raaj",
      "userId": "05738363180627729102"
     },
     "user_tz": -330
    },
    "id": "NlJRDVTVFmh8",
    "outputId": "8b152af2-18b8-4313-c978-945ed82ebe49"
   },
   "outputs": [
    {
     "name": "stdout",
     "output_type": "stream",
     "text": [
      "Enter your name Rohit\n",
      "hey Rohit\n"
     ]
    }
   ],
   "source": [
    "name= input(\"Enter your name \")\n",
    "print(f'hey {name}')\n"
   ]
  },
  {
   "cell_type": "code",
   "execution_count": null,
   "metadata": {
    "id": "raNql60mF3-W"
   },
   "outputs": [],
   "source": []
  }
 ],
 "metadata": {
  "colab": {
   "authorship_tag": "ABX9TyP6whOCAbkkwjAR6NqRZ6Ty",
   "provenance": []
  },
  "kernelspec": {
   "display_name": "venv",
   "language": "python",
   "name": "python3"
  },
  "language_info": {
   "codemirror_mode": {
    "name": "ipython",
    "version": 3
   },
   "file_extension": ".py",
   "mimetype": "text/x-python",
   "name": "python",
   "nbconvert_exporter": "python",
   "pygments_lexer": "ipython3",
   "version": "3.13.2"
  }
 },
 "nbformat": 4,
 "nbformat_minor": 0
}
